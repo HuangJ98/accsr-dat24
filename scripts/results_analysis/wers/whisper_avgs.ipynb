{
 "cells": [
  {
   "cell_type": "code",
   "execution_count": 1,
   "metadata": {},
   "outputs": [],
   "source": [
    "import os\n",
    "import json\n",
    "from numpy import mean, std"
   ]
  },
  {
   "cell_type": "code",
   "execution_count": 2,
   "metadata": {},
   "outputs": [],
   "source": [
    "wers = dict()\n",
    "exp_dir = \"../../../logs/asr/evaluate\"\n",
    "for folder in os.listdir(exp_dir):\n",
    "    if \"whisper\" in folder:\n",
    "        if \"avg_wers.json\" in os.listdir(f\"{exp_dir}/{folder}/version_0\"):\n",
    "            wers[folder] = json.load(open(f\"{exp_dir}/{folder}/version_0/avg_wers.json\"))"
   ]
  },
  {
   "cell_type": "code",
   "execution_count": 3,
   "metadata": {},
   "outputs": [
    {
     "name": "stdout",
     "output_type": "stream",
     "text": [
      "whisper-large 10.221799128156436 5.598404710461391\n",
      "whisper-medium 12.172055383714838 6.741342806150174\n",
      "whisper-tiny 47.29489543875823 14.037092025031498\n",
      "whisper-base 32.08249569540508 11.593333436477584\n",
      "whisper-small 19.178221064894245 9.623397520212661\n"
     ]
    }
   ],
   "source": [
    "for model in wers:\n",
    "    values = [v[\"avg_wer\"] * 100 for v in wers[model].values()]\n",
    "    print(model, mean(values), std(values))\n"
   ]
  }
 ],
 "metadata": {
  "kernelspec": {
   "display_name": "Python 3.9.13 (conda)",
   "language": "python",
   "name": "python3"
  },
  "language_info": {
   "codemirror_mode": {
    "name": "ipython",
    "version": 3
   },
   "file_extension": ".py",
   "mimetype": "text/x-python",
   "name": "python",
   "nbconvert_exporter": "python",
   "pygments_lexer": "ipython3",
   "version": "3.9.13"
  },
  "orig_nbformat": 4,
  "vscode": {
   "interpreter": {
    "hash": "bac90b33b2e8bf5368ff2c0ee0f6c7fcb3410fada8b1fda9f71f846ace4b0b44"
   }
  }
 },
 "nbformat": 4,
 "nbformat_minor": 2
}
