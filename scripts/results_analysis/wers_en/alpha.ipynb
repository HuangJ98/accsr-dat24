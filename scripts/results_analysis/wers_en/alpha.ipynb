{
 "cells": [
  {
   "cell_type": "code",
   "execution_count": 1,
   "metadata": {},
   "outputs": [],
   "source": [
    "import os\n",
    "import json\n",
    "import numpy as np\n",
    "from omegaconf import OmegaConf"
   ]
  },
  {
   "cell_type": "code",
   "execution_count": 2,
   "metadata": {},
   "outputs": [],
   "source": [
    "exp_dir = \"../../../logs/en/asr/evaluate\"\n",
    "folders = {\n",
    "    \"Fine-tuned\": \"version_9\",\n",
    "    \"AC_100\": \"version_44\",\n",
    "    \"AC_10\": \"version_45\",\n",
    "    \"AC_1\": \"version_24\",\n",
    "    \"AC_0.1\": \"version_46\",\n",
    "    \"AC_0.01\": \"version_47\",\n",
    "}"
   ]
  },
  {
   "cell_type": "code",
   "execution_count": 3,
   "metadata": {},
   "outputs": [],
   "source": [
    "# define which accent is standard, which are seen and which are unseen\n",
    "classes = {\n",
    "    \"seen\": [\"us\", \"uk\", \"ca\", \"in\", \"de\", \"au\"],\n",
    "    \"unseen\": [\"hk\", \"sg\", \"sc\", \"nz\", \"ie\", \"za\", \"ni\", \"ph\"],\n",
    "}"
   ]
  },
  {
   "cell_type": "code",
   "execution_count": 4,
   "metadata": {},
   "outputs": [],
   "source": [
    "# load WERs of each file, for each accent\n",
    "wers = dict()\n",
    "for exp, folder in folders.items():\n",
    "    wers[exp] = {k[5:-4]: v for k, v in json.load(open(f\"{exp_dir}/{folder}/avg_wers.json\")).items()}"
   ]
  },
  {
   "cell_type": "code",
   "execution_count": 5,
   "metadata": {},
   "outputs": [],
   "source": [
    "# transform dictionary into a numpy array, where one axis represents the accents and another the experiments\n",
    "experiments = list(wers.keys())\n",
    "accents = list(wers[experiments[0]].keys())\n",
    "n_words = np.array([wers[experiments[0]][acc][\"n_words\"] for acc in accents])\n",
    "avg_wers = np.array([[wers[exp][acc][\"avg_wer\"] for exp in experiments] for acc in accents])"
   ]
  },
  {
   "cell_type": "code",
   "execution_count": 6,
   "metadata": {},
   "outputs": [],
   "source": [
    "# compute means for each class, for each experiment\n",
    "class_indices = {k: [accents.index(acc) for acc in v] for k, v in classes.items()}\n",
    "class_means = {k: np.mean(avg_wers[indices], axis=0) for k, indices in class_indices.items()}"
   ]
  },
  {
   "cell_type": "code",
   "execution_count": 7,
   "metadata": {},
   "outputs": [
    {
     "name": "stdout",
     "output_type": "stream",
     "text": [
      "Accent / Dialect | Fine-tuned | AC_100 | AC_10 | AC_1 | AC_0.1 | AC_0.01\n",
      "|---:|---:|---:|---:|---:|---:|---:|\n",
      "za | 6.54 | 99.10 | 10.11 | 6.54 | 6.52 | 6.53\n",
      "sg | 10.41 | 97.05 | 15.78 | 10.51 | 10.41 | 10.34\n",
      "in | 9.21 | 98.17 | 13.24 | 9.41 | 9.18 | 9.19\n",
      "au | 7.47 | 98.15 | 13.21 | 7.53 | 7.47 | 7.42\n",
      "hk | 9.76 | 102.11 | 14.36 | 9.75 | 9.73 | 9.71\n",
      "ie | 7.51 | 98.65 | 12.18 | 7.41 | 7.41 | 7.47\n",
      "uk | 5.78 | 99.14 | 9.27 | 5.87 | 5.76 | 5.74\n",
      "ph | 8.90 | 97.34 | 13.33 | 8.79 | 8.79 | 8.79\n",
      "de | 5.62 | 95.08 | 8.34 | 5.66 | 5.57 | 5.58\n",
      "ni | 6.96 | 94.68 | 10.55 | 7.02 | 6.86 | 6.93\n",
      "us | 5.43 | 98.42 | 7.50 | 5.46 | 5.41 | 5.40\n",
      "ca | 5.36 | 97.29 | 7.13 | 5.35 | 5.32 | 5.32\n",
      "nz | 5.40 | 100.04 | 10.97 | 5.28 | 5.36 | 5.33\n",
      "sc | 33.50 | 98.13 | 39.11 | 32.55 | 33.83 | 33.77\n",
      "mean | 9.13 | 98.10 | 13.22 | 9.08 | 9.12 | 9.11\n",
      "seen mean | 6.48 | 97.71 | 9.78 | 6.55 | 6.45 | 6.44\n",
      "unseen mean | 11.12 | 98.39 | 15.80 | 10.98 | 11.12 | 11.11\n",
      "worst | 33.50 | 102.11 | 39.11 | 32.55 | 33.83 | 33.77\n",
      "3-worst mean. | 17.89 | 100.43 | 23.08 | 17.61 | 17.99 | 17.94\n"
     ]
    }
   ],
   "source": [
    "# print the avg. WERs and the means (overall and per class) as a markdown table\n",
    "headers = [\"Accent / Dialect\"] + experiments\n",
    "print((\" | \").join(headers))\n",
    "print(f\"|{'---:|'*len(headers)}\")\n",
    "\n",
    "# print avg. WERs\n",
    "for i in range(len(accents)):\n",
    "    row = [accents[i]] + [f\"{avg_wers[i,j]*100:.2f}\" for j in range(len(experiments))]\n",
    "    print((\" | \").join(row))\n",
    "\n",
    "# print overall means\n",
    "row = [\"mean\"] + [f\"{np.mean(avg_wers[:,i])*100:.2f}\" for i in range(len(experiments))]\n",
    "print((\" | \").join(row))\n",
    "\n",
    "# print class means\n",
    "for key, value in class_means.items():\n",
    "    row = [f\"{key} mean\"] + [f\"{value[i]*100:.2f}\" for i in range(len(experiments))]\n",
    "    print((\" | \").join(row))\n",
    "\n",
    "# print worst avg. WER of each experiment\n",
    "row = [\"worst\"] + [f\"{v*100:.2f}\" for v in np.max(avg_wers, axis=0)]\n",
    "print((\" | \").join(row))\n",
    "\n",
    "# print the avg. of the three worst avg. WERs of each experiment\n",
    "row = [\"3-worst mean.\"] + [f\"{np.mean(np.sort(avg_wers, axis=0)[-3:,i])*100:.2f}\" for i in range(len(experiments))]\n",
    "print((\" | \").join(row))\n"
   ]
  },
  {
   "attachments": {},
   "cell_type": "markdown",
   "metadata": {},
   "source": [
    "Accent / Dialect | Fine-tuned | AC_100 | AC_10 | AC_1 | AC_0.1 | AC_0.01\n",
    "|---:|---:|---:|---:|---:|---:|---:|\n",
    "Southern African (South Africa, Zimbabwe, Namibia) | 6.54 | 99.10 | 10.11 | 6.54 | 6.52 | 6.53\n",
    "Singaporean English | 10.41 | 97.05 | 15.78 | 10.51 | 10.41 | 10.34\n",
    "India and South Asia (India, Pakistan, Sri Lanka) | 9.21 | 98.17 | 13.24 | 9.41 | 9.18 | 9.19\n",
    "Australian English | 7.47 | 98.15 | 13.21 | 7.53 | 7.47 | 7.42\n",
    "Hong Kong English | 9.76 | 102.11 | 14.36 | 9.75 | 9.73 | 9.71\n",
    "Irish English | 7.51 | 98.65 | 12.18 | 7.41 | 7.41 | 7.47\n",
    "England English | 5.78 | 99.14 | 9.27 | 5.87 | 5.76 | 5.74\n",
    "Filipino | 8.90 | 97.34 | 13.33 | 8.79 | 8.79 | 8.79\n",
    "German English,Non native speaker | 5.62 | 95.08 | 8.34 | 5.66 | 5.57 | 5.58\n",
    "Northern Irish | 6.96 | 94.68 | 10.55 | 7.02 | 6.86 | 6.93\n",
    "United States English | 5.43 | 98.42 | 7.50 | 5.46 | 5.41 | 5.40\n",
    "Canadian English | 5.36 | 97.29 | 7.13 | 5.35 | 5.32 | 5.32\n",
    "New Zealand English | 5.40 | 100.04 | 10.97 | 5.28 | 5.36 | 5.33\n",
    "Scottish English | 33.50 | 98.13 | 39.11 | 32.55 | 33.83 | 33.77\n",
    "mean | 9.13 | 98.10 | 13.22 | 9.08 | 9.12 | 9.11\n",
    "seen mean | 6.48 | 97.71 | 9.78 | 6.55 | 6.45 | 6.44\n",
    "unseen mean | 11.12 | 98.39 | 15.80 | 10.98 | 11.12 | 11.11\n",
    "worst | 33.50 | 102.11 | 39.11 | 32.55 | 33.83 | 33.77\n",
    "3-worst mean. | 17.89 | 100.43 | 23.08 | 17.61 | 17.99 | 17.94"
   ]
  },
  {
   "cell_type": "code",
   "execution_count": 8,
   "metadata": {},
   "outputs": [
    {
     "name": "stdout",
     "output_type": "stream",
     "text": [
      "Experiment folders:\n",
      "\n",
      "- Fine-tuned: training `logs/en/asr/train/version_11`, evaluation `../../logs/en/asr/evaluate/version_9`\n",
      "- AC_100: training `logs/en/ensemble/train/binary/b7/DAT/version_86`, evaluation `../../logs/en/asr/evaluate/version_44`\n",
      "- AC_10: training `logs/en/ensemble/train/binary/b7/DAT/version_87`, evaluation `../../logs/en/asr/evaluate/version_45`\n",
      "- AC_1: training `logs/en/ensemble/train/binary/b7/DAT/version_66`, evaluation `../../logs/en/asr/evaluate/version_24`\n",
      "- AC_0.1: training `logs/en/ensemble/train/binary/b7/DAT/version_88`, evaluation `../../logs/en/asr/evaluate/version_46`\n",
      "- AC_0.01: training `logs/en/ensemble/train/binary/b7/DAT/version_89`, evaluation `../../logs/en/asr/evaluate/version_47`\n"
     ]
    }
   ],
   "source": [
    "# print the experiment folders of each experiment (both train and eval folders)\n",
    "print(\"Experiment folders:\\n\")\n",
    "for exp, folder in folders.items():\n",
    "    eval_folder = os.path.join(exp_dir, folder)\n",
    "    eval_config = OmegaConf.load(os.path.join(eval_folder, \"config.yaml\"))\n",
    "    train_folder = f'../{eval_config.asr.ckpt.replace(\"/checkpoints/last.ckpt\", \"\")}'\n",
    "    print(f\"- {exp}: training `{train_folder[3:]}`, evaluation `{eval_folder[3:]}`\")"
   ]
  }
 ],
 "metadata": {
  "kernelspec": {
   "display_name": "Python 3",
   "language": "python",
   "name": "python3"
  },
  "language_info": {
   "codemirror_mode": {
    "name": "ipython",
    "version": 3
   },
   "file_extension": ".py",
   "mimetype": "text/x-python",
   "name": "python",
   "nbconvert_exporter": "python",
   "pygments_lexer": "ipython3",
   "version": "3.10.12"
  },
  "orig_nbformat": 4,
  "vscode": {
   "interpreter": {
    "hash": "bac90b33b2e8bf5368ff2c0ee0f6c7fcb3410fada8b1fda9f71f846ace4b0b44"
   }
  }
 },
 "nbformat": 4,
 "nbformat_minor": 2
}
