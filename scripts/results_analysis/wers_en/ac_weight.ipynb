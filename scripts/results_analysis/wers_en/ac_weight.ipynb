{
 "cells": [
  {
   "cell_type": "code",
   "execution_count": 13,
   "metadata": {},
   "outputs": [],
   "source": [
    "import os\n",
    "import json\n",
    "import numpy as np\n",
    "from omegaconf import OmegaConf"
   ]
  },
  {
   "cell_type": "code",
   "execution_count": 14,
   "metadata": {},
   "outputs": [],
   "source": [
    "exp_dir = \"../../../logs/en/asr/evaluate\"\n",
    "folders = {\n",
    "    \"Fine-tuned_9\": \"version_9\",\n",
    "    \"AC_10\": \"version_43\",\n",
    "    \"AC_standard\": \"version_24\",\n",
    "    \"AC_0.7\": \"version_25\",\n",
    "    \"AC_0.5\": \"version_26\",\n",
    "    \"AC_0.3\": \"version_27\",\n",
    "    \"AC_0.1\": \"version_19\",\n",
    "    \"AC_0.01\": \"version_38\",\n",
    "}"
   ]
  },
  {
   "cell_type": "code",
   "execution_count": 15,
   "metadata": {},
   "outputs": [],
   "source": [
    "# define which accent is standard, which are seen and which are unseen\n",
    "classes = {\n",
    "    \"seen\": [\"us\", \"uk\", \"ca\", \"in\", \"de\", \"au\"],\n",
    "    \"unseen\": [\"hk\", \"sg\", \"sc\", \"nz\", \"ie\", \"za\", \"ni\", \"ph\"],\n",
    "}\n",
    "\n",
    "mapping = {\n",
    "    \"United States English\": \"us\",\n",
    "    \"England English\": \"uk\",\n",
    "    \"India and South Asia (India, Pakistan, Sri Lanka)\": \"in\",\n",
    "    \"Canadian English\": \"ca\",\n",
    "    \"Australian English\": \"au\",\n",
    "    \"German English,Non native speaker\": \"de\",\n",
    "    \"Scottish English\": \"sc\",\n",
    "    \"New Zealand English\": \"nz\",\n",
    "    \"Irish English\": \"ie\",\n",
    "    \"Southern African (South Africa, Zimbabwe, Namibia)\": \"za\",\n",
    "    \"Northern Irish\": \"ni\",\n",
    "    \"Filipino\": \"ph\",\n",
    "    \"Hong Kong English\": \"hk\",\n",
    "    \"Singaporean English\": \"sg\",\n",
    "}"
   ]
  },
  {
   "cell_type": "code",
   "execution_count": 16,
   "metadata": {},
   "outputs": [],
   "source": [
    "# load WERs of each file, for each accent\n",
    "wers = dict()\n",
    "for exp, folder in folders.items():\n",
    "    wers[exp] = {k[5:-4]: v for k, v in json.load(open(f\"{exp_dir}/{folder}/avg_wers.json\")).items()}"
   ]
  },
  {
   "cell_type": "code",
   "execution_count": 17,
   "metadata": {},
   "outputs": [],
   "source": [
    "# transform dictionary into a numpy array, where one axis represents the accents and another the experiments\n",
    "experiments = list(wers.keys())\n",
    "accents = list(wers[experiments[0]].keys())\n",
    "n_words = np.array([wers[experiments[0]][acc][\"n_words\"] for acc in accents])\n",
    "avg_wers = np.array([[wers[exp][acc][\"avg_wer\"] for exp in experiments] for acc in accents])"
   ]
  },
  {
   "cell_type": "code",
   "execution_count": 18,
   "metadata": {},
   "outputs": [],
   "source": [
    "# compute means for each class, for each experiment\n",
    "class_indices = {k: [accents.index(acc) for acc in v] for k, v in classes.items()}\n",
    "class_means = {k: np.mean(avg_wers[indices], axis=0) for k, indices in class_indices.items()}"
   ]
  },
  {
   "cell_type": "code",
   "execution_count": 19,
   "metadata": {},
   "outputs": [
    {
     "name": "stdout",
     "output_type": "stream",
     "text": [
      "Accent / Dialect | Fine-tuned_9 | AC_10 | AC_standard | AC_0.7 | AC_0.5 | AC_0.3 | AC_0.1 | AC_0.01\n",
      "|---:|---:|---:|---:|---:|---:|---:|---:|---:|\n",
      "Southern African (South Africa, Zimbabwe, Namibia) | 6.54 | 7.53 | 6.54 | 6.49 | 6.53 | 6.51 | 6.53 | 7.92\n",
      "Singaporean English | 10.41 | 12.39 | 10.51 | 10.63 | 10.39 | 10.65 | 10.41 | 13.18\n",
      "India and South Asia (India, Pakistan, Sri Lanka) | 9.21 | 10.84 | 9.41 | 9.25 | 9.31 | 9.21 | 9.21 | 10.95\n",
      "Australian English | 7.47 | 8.50 | 7.53 | 7.47 | 7.54 | 7.44 | 7.46 | 9.08\n",
      "Hong Kong English | 9.76 | 12.19 | 9.75 | 9.93 | 9.75 | 9.97 | 9.78 | 12.15\n",
      "Irish English | 7.51 | 9.17 | 7.41 | 7.51 | 7.37 | 7.52 | 7.52 | 9.41\n",
      "England English | 5.78 | 7.02 | 5.87 | 5.79 | 5.83 | 5.75 | 5.78 | 7.09\n",
      "Filipino | 8.90 | 10.28 | 8.79 | 8.99 | 8.78 | 8.95 | 8.91 | 10.26\n",
      "German English,Non native speaker | 5.62 | 6.72 | 5.66 | 5.60 | 5.60 | 5.58 | 5.62 | 6.74\n",
      "Northern Irish | 6.96 | 8.02 | 7.02 | 6.71 | 7.05 | 6.72 | 6.96 | 8.00\n",
      "United States English | 5.43 | 6.38 | 5.46 | 5.54 | 5.45 | 5.52 | 5.43 | 6.31\n",
      "Canadian English | 5.36 | 6.10 | 5.35 | 5.46 | 5.34 | 5.46 | 5.36 | 6.12\n",
      "New Zealand English | 5.40 | 6.61 | 5.28 | 5.54 | 5.34 | 5.56 | 5.39 | 7.07\n",
      "Scottish English | 33.50 | 36.96 | 32.55 | 33.43 | 33.21 | 33.77 | 33.51 | 36.51\n",
      "mean | 9.13 | 10.62 | 9.08 | 9.17 | 9.11 | 9.19 | 9.13 | 10.77\n",
      "seen mean | 6.48 | 7.59 | 6.55 | 6.52 | 6.51 | 6.49 | 6.48 | 7.72\n",
      "unseen mean | 11.12 | 12.89 | 10.98 | 11.15 | 11.05 | 11.21 | 11.13 | 13.06\n",
      "worst | 33.50 | 36.96 | 32.55 | 33.43 | 33.21 | 33.77 | 33.51 | 36.51\n",
      "3-worst mean. | 17.89 | 20.51 | 17.61 | 18.00 | 17.78 | 18.13 | 17.90 | 20.61\n"
     ]
    }
   ],
   "source": [
    "# print the avg. WERs and the means (overall and per class) as a markdown table\n",
    "headers = [\"Accent / Dialect\"] + experiments\n",
    "print((\" | \").join(headers))\n",
    "print(f\"|{'---:|'*len(headers)}\")\n",
    "\n",
    "# print avg. WERs\n",
    "for i in range(len(accents)):\n",
    "    row = [list(mapping.keys())[list(mapping.values()).index(accents[i])]] + [f\"{avg_wers[i,j]*100:.2f}\" for j in range(len(experiments))]\n",
    "    print((\" | \").join(row))\n",
    "\n",
    "# print overall means\n",
    "row = [\"mean\"] + [f\"{np.mean(avg_wers[:,i])*100:.2f}\" for i in range(len(experiments))]\n",
    "print((\" | \").join(row))\n",
    "\n",
    "# print class means\n",
    "for key, value in class_means.items():\n",
    "    row = [f\"{key} mean\"] + [f\"{value[i]*100:.2f}\" for i in range(len(experiments))]\n",
    "    print((\" | \").join(row))\n",
    "\n",
    "# print worst avg. WER of each experiment\n",
    "row = [\"worst\"] + [f\"{v*100:.2f}\" for v in np.max(avg_wers, axis=0)]\n",
    "print((\" | \").join(row))\n",
    "\n",
    "# print the avg. of the three worst avg. WERs of each experiment\n",
    "row = [\"3-worst mean.\"] + [f\"{np.mean(np.sort(avg_wers, axis=0)[-3:,i])*100:.2f}\" for i in range(len(experiments))]\n",
    "print((\" | \").join(row))\n"
   ]
  },
  {
   "attachments": {},
   "cell_type": "markdown",
   "metadata": {},
   "source": [
    "Accent / Dialect | Fine-tuned_9 | AC_10 | AC_standard | AC_0.7 | AC_0.5 | AC_0.3 | AC_0.1 | AC_0.01\n",
    "|---:|---:|---:|---:|---:|---:|---:|---:|---:|\n",
    "Southern African (South Africa, Zimbabwe, Namibia) | 6.54 | 7.53 | 6.54 | 6.49 | 6.53 | 6.51 | 6.53 | 7.92\n",
    "Singaporean English | 10.41 | 12.39 | 10.51 | 10.63 | 10.39 | 10.65 | 10.41 | 13.18\n",
    "India and South Asia (India, Pakistan, Sri Lanka) | 9.21 | 10.84 | 9.41 | 9.25 | 9.31 | 9.21 | 9.21 | 10.95\n",
    "Australian English | 7.47 | 8.50 | 7.53 | 7.47 | 7.54 | 7.44 | 7.46 | 9.08\n",
    "Hong Kong English | 9.76 | 12.19 | 9.75 | 9.93 | 9.75 | 9.97 | 9.78 | 12.15\n",
    "Irish English | 7.51 | 9.17 | 7.41 | 7.51 | 7.37 | 7.52 | 7.52 | 9.41\n",
    "England English | 5.78 | 7.02 | 5.87 | 5.79 | 5.83 | 5.75 | 5.78 | 7.09\n",
    "Filipino | 8.90 | 10.28 | 8.79 | 8.99 | 8.78 | 8.95 | 8.91 | 10.26\n",
    "German English,Non native speaker | 5.62 | 6.72 | 5.66 | 5.60 | 5.60 | 5.58 | 5.62 | 6.74\n",
    "Northern Irish | 6.96 | 8.02 | 7.02 | 6.71 | 7.05 | 6.72 | 6.96 | 8.00\n",
    "United States English | 5.43 | 6.38 | 5.46 | 5.54 | 5.45 | 5.52 | 5.43 | 6.31\n",
    "Canadian English | 5.36 | 6.10 | 5.35 | 5.46 | 5.34 | 5.46 | 5.36 | 6.12\n",
    "New Zealand English | 5.40 | 6.61 | 5.28 | 5.54 | 5.34 | 5.56 | 5.39 | 7.07\n",
    "Scottish English | 33.50 | 36.96 | 32.55 | 33.43 | 33.21 | 33.77 | 33.51 | 36.51\n",
    "mean | 9.13 | 10.62 | 9.08 | 9.17 | 9.11 | 9.19 | 9.13 | 10.77\n",
    "seen mean | 6.48 | 7.59 | 6.55 | 6.52 | 6.51 | 6.49 | 6.48 | 7.72\n",
    "unseen mean | 11.12 | 12.89 | 10.98 | 11.15 | 11.05 | 11.21 | 11.13 | 13.06\n",
    "worst | 33.50 | 36.96 | 32.55 | 33.43 | 33.21 | 33.77 | 33.51 | 36.51\n",
    "3-worst mean. | 17.89 | 20.51 | 17.61 | 18.00 | 17.78 | 18.13 | 17.90 | 20.61"
   ]
  },
  {
   "cell_type": "code",
   "execution_count": 20,
   "metadata": {},
   "outputs": [
    {
     "name": "stdout",
     "output_type": "stream",
     "text": [
      "Experiment folders:\n",
      "\n",
      "- Fine-tuned_9: training `logs/en/asr/train/version_11`, evaluation `../../logs/en/asr/evaluate/version_9`\n",
      "- AC_10: training `logs/en/ensemble/train/binary/b7/DAT/version_85`, evaluation `../../logs/en/asr/evaluate/version_43`\n",
      "- AC_standard: training `logs/en/ensemble/train/binary/b7/DAT/version_66`, evaluation `../../logs/en/asr/evaluate/version_24`\n",
      "- AC_0.7: training `logs/en/ensemble/train/binary/b7/DAT/version_67`, evaluation `../../logs/en/asr/evaluate/version_25`\n",
      "- AC_0.5: training `logs/en/ensemble/train/binary/b7/DAT/version_68`, evaluation `../../logs/en/asr/evaluate/version_26`\n",
      "- AC_0.3: training `logs/en/ensemble/train/binary/b7/DAT/version_69`, evaluation `../../logs/en/asr/evaluate/version_27`\n",
      "- AC_0.1: training `logs/en/ensemble/train/binary/b7/DAT/version_64`, evaluation `../../logs/en/asr/evaluate/version_19`\n",
      "- AC_0.01: training `logs/en/ensemble/train/binary/b7/DAT/version_80`, evaluation `../../logs/en/asr/evaluate/version_38`\n"
     ]
    }
   ],
   "source": [
    "# print the experiment folders of each experiment (both train and eval folders)\n",
    "print(\"Experiment folders:\\n\")\n",
    "for exp, folder in folders.items():\n",
    "    eval_folder = os.path.join(exp_dir, folder)\n",
    "    eval_config = OmegaConf.load(os.path.join(eval_folder, \"config.yaml\"))\n",
    "    train_folder = f'../{eval_config.asr.ckpt.replace(\"/checkpoints/last.ckpt\", \"\")}'\n",
    "    print(f\"- {exp}: training `{train_folder[3:]}`, evaluation `{eval_folder[3:]}`\")"
   ]
  }
 ],
 "metadata": {
  "kernelspec": {
   "display_name": "Python 3",
   "language": "python",
   "name": "python3"
  },
  "language_info": {
   "codemirror_mode": {
    "name": "ipython",
    "version": 3
   },
   "file_extension": ".py",
   "mimetype": "text/x-python",
   "name": "python",
   "nbconvert_exporter": "python",
   "pygments_lexer": "ipython3",
   "version": "3.10.12"
  },
  "orig_nbformat": 4,
  "vscode": {
   "interpreter": {
    "hash": "bac90b33b2e8bf5368ff2c0ee0f6c7fcb3410fada8b1fda9f71f846ace4b0b44"
   }
  }
 },
 "nbformat": 4,
 "nbformat_minor": 2
}
