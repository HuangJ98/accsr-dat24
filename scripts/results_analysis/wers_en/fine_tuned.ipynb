{
 "cells": [
  {
   "cell_type": "code",
   "execution_count": 28,
   "metadata": {},
   "outputs": [],
   "source": [
    "import os\n",
    "import json\n",
    "import numpy as np\n",
    "from omegaconf import OmegaConf"
   ]
  },
  {
   "cell_type": "code",
   "execution_count": 29,
   "metadata": {},
   "outputs": [],
   "source": [
    "exp_dir = \"../../../logs/en/asr/evaluate\"\n",
    "folders = {\n",
    "    \"Baseline\": \"version_5\",\n",
    "    \"Fine-tuned_9\": \"version_9\",\n",
    "    \"AC_66\": \"version_24\",\n",
    "    \"x_vector\": \"version_55\",\n",
    "}"
   ]
  },
  {
   "cell_type": "code",
   "execution_count": 30,
   "metadata": {},
   "outputs": [],
   "source": [
    "# define which accent is standard, which are seen and which are unseen\n",
    "classes = {\n",
    "    \"seen\": [\"us\", \"uk\", \"ca\", \"in\", \"de\", \"au\"],\n",
    "    \"unseen\": [\"hk\", \"sg\", \"sc\", \"nz\", \"ie\", \"za\", \"ni\", \"ph\"],\n",
    "}"
   ]
  },
  {
   "cell_type": "code",
   "execution_count": 31,
   "metadata": {},
   "outputs": [],
   "source": [
    "# load WERs of each file, for each accent\n",
    "wers = dict()\n",
    "for exp, folder in folders.items():\n",
    "    wers[exp] = {k[5:-4]: v for k, v in json.load(open(f\"{exp_dir}/{folder}/avg_wers.json\")).items()}"
   ]
  },
  {
   "cell_type": "code",
   "execution_count": 32,
   "metadata": {},
   "outputs": [],
   "source": [
    "# transform dictionary into a numpy array, where one axis represents the accents and another the experiments\n",
    "experiments = list(wers.keys())\n",
    "accents = list(wers[experiments[0]].keys())\n",
    "n_words = np.array([wers[experiments[0]][acc][\"n_words\"] for acc in accents])\n",
    "avg_wers = np.array([[wers[exp][acc][\"avg_wer\"] for exp in experiments] for acc in accents])"
   ]
  },
  {
   "cell_type": "code",
   "execution_count": 33,
   "metadata": {},
   "outputs": [],
   "source": [
    "# compute means for each class, for each experiment\n",
    "class_indices = {k: [accents.index(acc) for acc in v] for k, v in classes.items()}\n",
    "class_means = {k: np.mean(avg_wers[indices], axis=0) for k, indices in class_indices.items()}"
   ]
  },
  {
   "cell_type": "code",
   "execution_count": 34,
   "metadata": {},
   "outputs": [
    {
     "name": "stdout",
     "output_type": "stream",
     "text": [
      "Accent / Dialect | Baseline | Fine-tuned_9 | AC_66 | x_vector\n",
      "|---:|---:|---:|---:|---:|\n",
      "za | 8.54 | 6.54 | 6.54 | 6.47\n",
      "sg | 12.11 | 10.41 | 10.51 | 10.45\n",
      "in | 13.08 | 9.21 | 9.41 | 9.18\n",
      "au | 10.21 | 7.47 | 7.53 | 7.44\n",
      "hk | 12.68 | 9.76 | 9.75 | 9.71\n",
      "ie | 8.96 | 7.51 | 7.41 | 7.40\n",
      "uk | 7.50 | 5.78 | 5.87 | 5.77\n",
      "ph | 10.44 | 8.90 | 8.79 | 8.79\n",
      "de | 8.45 | 5.62 | 5.66 | 5.57\n",
      "ni | 6.60 | 6.96 | 7.02 | 6.79\n",
      "us | 6.88 | 5.43 | 5.46 | 5.45\n",
      "ca | 6.30 | 5.36 | 5.35 | 5.32\n",
      "nz | 6.82 | 5.40 | 5.28 | 5.31\n",
      "sc | 38.48 | 33.50 | 32.55 | 33.59\n",
      "mean | 11.22 | 9.13 | 9.08 | 9.09\n",
      "seen mean | 8.74 | 6.48 | 6.55 | 6.46\n",
      "unseen mean | 13.08 | 11.12 | 10.98 | 11.06\n",
      "worst | 38.48 | 33.50 | 32.55 | 33.59\n",
      "3-worst mean. | 21.41 | 17.89 | 17.61 | 17.92\n"
     ]
    }
   ],
   "source": [
    "# print the avg. WERs and the means (overall and per class) as a markdown table\n",
    "headers = [\"Accent / Dialect\"] + experiments\n",
    "print((\" | \").join(headers))\n",
    "print(f\"|{'---:|'*len(headers)}\")\n",
    "\n",
    "# print avg. WERs\n",
    "for i in range(len(accents)):\n",
    "    row = [accents[i]] + [f\"{avg_wers[i,j]*100:.2f}\" for j in range(len(experiments))]\n",
    "    print((\" | \").join(row))\n",
    "\n",
    "# print overall means\n",
    "row = [\"mean\"] + [f\"{np.mean(avg_wers[:,i])*100:.2f}\" for i in range(len(experiments))]\n",
    "print((\" | \").join(row))\n",
    "\n",
    "# print class means\n",
    "for key, value in class_means.items():\n",
    "    row = [f\"{key} mean\"] + [f\"{value[i]*100:.2f}\" for i in range(len(experiments))]\n",
    "    print((\" | \").join(row))\n",
    "\n",
    "# print worst avg. WER of each experiment\n",
    "row = [\"worst\"] + [f\"{v*100:.2f}\" for v in np.max(avg_wers, axis=0)]\n",
    "print((\" | \").join(row))\n",
    "\n",
    "# print the avg. of the three worst avg. WERs of each experiment\n",
    "row = [\"3-worst mean.\"] + [f\"{np.mean(np.sort(avg_wers, axis=0)[-3:,i])*100:.2f}\" for i in range(len(experiments))]\n",
    "print((\" | \").join(row))\n"
   ]
  },
  {
   "cell_type": "markdown",
   "metadata": {},
   "source": []
  },
  {
   "attachments": {},
   "cell_type": "markdown",
   "metadata": {},
   "source": [
    "Accent / Dialect | Baseline | Fine-tuned_6 | Fine-tuned_9 | AC_66 | x_vector_old | x_vector\n",
    "|---:|---:|---:|---:|---:|---:|---:|\n",
    "Southern African (South Africa, Zimbabwe, Namibia) | 8.54 | 8.05 | 6.54 | 6.54 | 6.49 | 6.47\n",
    "Singaporean English | 12.11 | 12.06 | 10.41 | 10.51 | 10.41 | 10.45\n",
    "India and South Asia (India, Pakistan, Sri Lanka) | 13.08 | 11.58 | 9.21 | 9.41 | 9.25 | 9.18\n",
    "Australian English | 10.21 | 9.49 | 7.47 | 7.53 | 7.49 | 7.44\n",
    "Hong Kong English | 12.68 | 11.45 | 9.76 | 9.75 | 9.70 | 9.71\n",
    "Irish English | 8.96 | 8.78 | 7.51 | 7.41 | 7.43 | 7.40\n",
    "England English | 7.50 | 7.18 | 5.78 | 5.87 | 5.79 | 5.77\n",
    "Filipino | 10.44 | 10.38 | 8.90 | 8.79 | 8.81 | 8.79\n",
    "German English,Non native speaker | 8.45 | 7.27 | 5.62 | 5.66 | 5.58 | 5.57\n",
    "Northern Irish | 6.60 | 7.67 | 6.96 | 7.02 | 6.87 | 6.79\n",
    "United States English | 6.88 | 6.67 | 5.43 | 5.46 | 5.42 | 5.45\n",
    "Canadian English | 6.30 | 6.48 | 5.36 | 5.35 | 5.33 | 5.32\n",
    "New Zealand English | 6.82 | 6.79 | 5.40 | 5.28 | 5.36 | 5.31\n",
    "Scottish English | 38.48 | 34.03 | 33.50 | 32.55 | 33.65 | 33.59\n",
    "mean | 11.22 | 10.56 | 9.13 | 9.08 | 9.11 | 9.09\n",
    "seen mean | 8.74 | 8.11 | 6.48 | 6.55 | 6.48 | 6.46\n",
    "unseen mean | 13.08 | 12.40 | 11.12 | 10.98 | 11.09 | 11.06\n",
    "worst | 38.48 | 34.03 | 33.50 | 32.55 | 33.65 | 33.59\n",
    "3-worst mean. | 21.41 | 19.22 | 17.89 | 17.61 | 17.92 | 17.92"
   ]
  },
  {
   "cell_type": "code",
   "execution_count": 35,
   "metadata": {},
   "outputs": [
    {
     "name": "stdout",
     "output_type": "stream",
     "text": [
      "Experiment folders:\n",
      "\n"
     ]
    },
    {
     "ename": "AttributeError",
     "evalue": "'NoneType' object has no attribute 'replace'",
     "output_type": "error",
     "traceback": [
      "\u001b[0;31m---------------------------------------------------------------------------\u001b[0m",
      "\u001b[0;31mAttributeError\u001b[0m                            Traceback (most recent call last)",
      "Cell \u001b[0;32mIn[35], line 6\u001b[0m\n\u001b[1;32m      4\u001b[0m eval_folder \u001b[38;5;241m=\u001b[39m os\u001b[38;5;241m.\u001b[39mpath\u001b[38;5;241m.\u001b[39mjoin(exp_dir, folder)\n\u001b[1;32m      5\u001b[0m eval_config \u001b[38;5;241m=\u001b[39m OmegaConf\u001b[38;5;241m.\u001b[39mload(os\u001b[38;5;241m.\u001b[39mpath\u001b[38;5;241m.\u001b[39mjoin(eval_folder, \u001b[38;5;124m\"\u001b[39m\u001b[38;5;124mconfig.yaml\u001b[39m\u001b[38;5;124m\"\u001b[39m))\n\u001b[0;32m----> 6\u001b[0m train_folder \u001b[38;5;241m=\u001b[39m \u001b[38;5;124mf\u001b[39m\u001b[38;5;124m'\u001b[39m\u001b[38;5;124m../\u001b[39m\u001b[38;5;132;01m{\u001b[39;00m\u001b[43meval_config\u001b[49m\u001b[38;5;241;43m.\u001b[39;49m\u001b[43masr\u001b[49m\u001b[38;5;241;43m.\u001b[39;49m\u001b[43mckpt\u001b[49m\u001b[38;5;241;43m.\u001b[39;49m\u001b[43mreplace\u001b[49m(\u001b[38;5;124m\"\u001b[39m\u001b[38;5;124m/checkpoints/last.ckpt\u001b[39m\u001b[38;5;124m\"\u001b[39m,\u001b[38;5;250m \u001b[39m\u001b[38;5;124m\"\u001b[39m\u001b[38;5;124m\"\u001b[39m)\u001b[38;5;132;01m}\u001b[39;00m\u001b[38;5;124m'\u001b[39m\n\u001b[1;32m      7\u001b[0m \u001b[38;5;28mprint\u001b[39m(\u001b[38;5;124mf\u001b[39m\u001b[38;5;124m\"\u001b[39m\u001b[38;5;124m- \u001b[39m\u001b[38;5;132;01m{\u001b[39;00mexp\u001b[38;5;132;01m}\u001b[39;00m\u001b[38;5;124m: training `\u001b[39m\u001b[38;5;132;01m{\u001b[39;00mtrain_folder[\u001b[38;5;241m3\u001b[39m:]\u001b[38;5;132;01m}\u001b[39;00m\u001b[38;5;124m`, evaluation `\u001b[39m\u001b[38;5;132;01m{\u001b[39;00meval_folder[\u001b[38;5;241m3\u001b[39m:]\u001b[38;5;132;01m}\u001b[39;00m\u001b[38;5;124m`\u001b[39m\u001b[38;5;124m\"\u001b[39m)\n",
      "\u001b[0;31mAttributeError\u001b[0m: 'NoneType' object has no attribute 'replace'"
     ]
    }
   ],
   "source": [
    "# print the experiment folders of each experiment (both train and eval folders)\n",
    "print(\"Experiment folders:\\n\")\n",
    "for exp, folder in folders.items():\n",
    "    eval_folder = os.path.join(exp_dir, folder)\n",
    "    eval_config = OmegaConf.load(os.path.join(eval_folder, \"config.yaml\"))\n",
    "    train_folder = f'../{eval_config.asr.ckpt.replace(\"/checkpoints/last.ckpt\", \"\")}'\n",
    "    print(f\"- {exp}: training `{train_folder[3:]}`, evaluation `{eval_folder[3:]}`\")"
   ]
  }
 ],
 "metadata": {
  "kernelspec": {
   "display_name": "Python 3",
   "language": "python",
   "name": "python3"
  },
  "language_info": {
   "codemirror_mode": {
    "name": "ipython",
    "version": 3
   },
   "file_extension": ".py",
   "mimetype": "text/x-python",
   "name": "python",
   "nbconvert_exporter": "python",
   "pygments_lexer": "ipython3",
   "version": "3.10.12"
  },
  "orig_nbformat": 4,
  "vscode": {
   "interpreter": {
    "hash": "bac90b33b2e8bf5368ff2c0ee0f6c7fcb3410fada8b1fda9f71f846ace4b0b44"
   }
  }
 },
 "nbformat": 4,
 "nbformat_minor": 2
}
