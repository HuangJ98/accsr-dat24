{
 "cells": [
  {
   "cell_type": "code",
   "execution_count": 1,
   "metadata": {},
   "outputs": [],
   "source": [
    "import os\n",
    "import json\n",
    "import numpy as np\n",
    "from omegaconf import OmegaConf"
   ]
  },
  {
   "cell_type": "code",
   "execution_count": 2,
   "metadata": {},
   "outputs": [],
   "source": [
    "exp_dir = \"../../../logs/en/asr/evaluate\"\n",
    "folders = {\n",
    "    \"Fine-tuned_9\": \"version_9\",\n",
    "    \"AC_00\": \"version_39\",\n",
    "    \"AC_01\": \"version_24\",\n",
    "    \"AC_02\": \"version_40\",\n",
    "    \"AC_04\": \"version_41\",\n",
    "    \"AC_06\": \"version_42\",\n",
    "}"
   ]
  },
  {
   "cell_type": "code",
   "execution_count": 3,
   "metadata": {},
   "outputs": [],
   "source": [
    "# define which accent is standard, which are seen and which are unseen\n",
    "classes = {\n",
    "    \"seen\": [\"us\", \"uk\", \"ca\", \"in\", \"de\", \"au\"],\n",
    "    \"unseen\": [\"hk\", \"sg\", \"sc\", \"nz\", \"ie\", \"za\", \"ni\", \"ph\"],\n",
    "}"
   ]
  },
  {
   "cell_type": "code",
   "execution_count": 4,
   "metadata": {},
   "outputs": [],
   "source": [
    "# load WERs of each file, for each accent\n",
    "wers = dict()\n",
    "for exp, folder in folders.items():\n",
    "    wers[exp] = {k[5:-4]: v for k, v in json.load(open(f\"{exp_dir}/{folder}/avg_wers.json\")).items()}"
   ]
  },
  {
   "cell_type": "code",
   "execution_count": 5,
   "metadata": {},
   "outputs": [],
   "source": [
    "# transform dictionary into a numpy array, where one axis represents the accents and another the experiments\n",
    "experiments = list(wers.keys())\n",
    "accents = list(wers[experiments[0]].keys())\n",
    "n_words = np.array([wers[experiments[0]][acc][\"n_words\"] for acc in accents])\n",
    "avg_wers = np.array([[wers[exp][acc][\"avg_wer\"] for exp in experiments] for acc in accents])"
   ]
  },
  {
   "cell_type": "code",
   "execution_count": 6,
   "metadata": {},
   "outputs": [],
   "source": [
    "# compute means for each class, for each experiment\n",
    "class_indices = {k: [accents.index(acc) for acc in v] for k, v in classes.items()}\n",
    "class_means = {k: np.mean(avg_wers[indices], axis=0) for k, indices in class_indices.items()}"
   ]
  },
  {
   "cell_type": "code",
   "execution_count": 7,
   "metadata": {},
   "outputs": [
    {
     "name": "stdout",
     "output_type": "stream",
     "text": [
      "Accent / Dialect | Fine-tuned_9 | AC_00 | AC_01 | AC_02 | AC_04 | AC_06\n",
      "|---:|---:|---:|---:|---:|---:|---:|\n",
      "za | 6.54 | 6.62 | 6.54 | 6.74 | 8.04 | 7.68\n",
      "sg | 10.41 | 10.41 | 10.51 | 10.76 | 13.38 | 12.43\n",
      "in | 9.21 | 9.27 | 9.41 | 9.42 | 11.67 | 10.88\n",
      "au | 7.47 | 7.61 | 7.53 | 7.61 | 9.38 | 8.91\n",
      "hk | 9.76 | 9.84 | 9.75 | 10.12 | 12.72 | 11.44\n",
      "ie | 7.51 | 7.53 | 7.41 | 7.61 | 9.21 | 8.94\n",
      "uk | 5.78 | 5.86 | 5.87 | 5.84 | 7.18 | 6.86\n",
      "ph | 8.90 | 8.81 | 8.79 | 8.98 | 10.90 | 10.52\n",
      "de | 5.62 | 5.64 | 5.66 | 5.64 | 6.71 | 6.85\n",
      "ni | 6.96 | 7.23 | 7.02 | 7.23 | 8.49 | 8.06\n",
      "us | 5.43 | 5.46 | 5.46 | 5.50 | 6.70 | 6.52\n",
      "ca | 5.36 | 5.37 | 5.35 | 5.41 | 6.46 | 6.32\n",
      "nz | 5.40 | 5.41 | 5.28 | 5.30 | 7.00 | 6.45\n",
      "sc | 33.50 | 33.30 | 32.55 | 34.33 | 36.62 | 36.35\n",
      "mean | 9.13 | 9.17 | 9.08 | 9.32 | 11.03 | 10.59\n",
      "seen mean | 6.48 | 6.53 | 6.55 | 6.57 | 8.01 | 7.72\n",
      "unseen mean | 11.12 | 11.14 | 10.98 | 11.38 | 13.29 | 12.73\n",
      "worst | 33.50 | 33.30 | 32.55 | 34.33 | 36.62 | 36.35\n",
      "3-worst mean. | 17.89 | 17.85 | 17.61 | 18.40 | 20.90 | 20.08\n"
     ]
    }
   ],
   "source": [
    "# print the avg. WERs and the means (overall and per class) as a markdown table\n",
    "headers = [\"Accent / Dialect\"] + experiments\n",
    "print((\" | \").join(headers))\n",
    "print(f\"|{'---:|'*len(headers)}\")\n",
    "\n",
    "# print avg. WERs\n",
    "for i in range(len(accents)):\n",
    "    row = [accents[i]] + [f\"{avg_wers[i,j]*100:.2f}\" for j in range(len(experiments))]\n",
    "    print((\" | \").join(row))\n",
    "\n",
    "# print overall means\n",
    "row = [\"mean\"] + [f\"{np.mean(avg_wers[:,i])*100:.2f}\" for i in range(len(experiments))]\n",
    "print((\" | \").join(row))\n",
    "\n",
    "# print class means\n",
    "for key, value in class_means.items():\n",
    "    row = [f\"{key} mean\"] + [f\"{value[i]*100:.2f}\" for i in range(len(experiments))]\n",
    "    print((\" | \").join(row))\n",
    "\n",
    "# print worst avg. WER of each experiment\n",
    "row = [\"worst\"] + [f\"{v*100:.2f}\" for v in np.max(avg_wers, axis=0)]\n",
    "print((\" | \").join(row))\n",
    "\n",
    "# print the avg. of the three worst avg. WERs of each experiment\n",
    "row = [\"3-worst mean.\"] + [f\"{np.mean(np.sort(avg_wers, axis=0)[-3:,i])*100:.2f}\" for i in range(len(experiments))]\n",
    "print((\" | \").join(row))\n"
   ]
  },
  {
   "attachments": {},
   "cell_type": "markdown",
   "metadata": {},
   "source": [
    "Accent / Dialect | Fine-tuned_9 | AC_00 | AC_01 | AC_02 | AC_04 | AC_06 | X_58_00 | X_65_01 | X_59_02 | X_60_04\n",
    "|---:|---:|---:|---:|---:|---:|---:|---:|---:|---:|---:|\n",
    "za | 6.54 | 6.62 | 6.54 | 6.74 | 8.04 | 7.68 | 6.54 | 6.54 | 6.57 | 7.54\n",
    "sg | 10.41 | 10.41 | 10.51 | 10.76 | 13.38 | 12.43 | 10.39 | 10.39 | 10.42 | 12.66\n",
    "in | 9.21 | 9.27 | 9.41 | 9.42 | 11.67 | 10.88 | 9.22 | 9.21 | 9.24 | 10.51\n",
    "au | 7.47 | 7.61 | 7.53 | 7.61 | 9.38 | 8.91 | 7.46 | 7.46 | 7.48 | 8.66\n",
    "hk | 9.76 | 9.84 | 9.75 | 10.12 | 12.72 | 11.44 | 9.73 | 9.73 | 9.82 | 11.24\n",
    "ie | 7.51 | 7.53 | 7.41 | 7.61 | 9.21 | 8.94 | 7.50 | 7.50 | 7.50 | 8.93\n",
    "uk | 5.78 | 5.86 | 5.87 | 5.84 | 7.18 | 6.86 | 5.77 | 5.77 | 5.76 | 6.73\n",
    "ph | 8.90 | 8.81 | 8.79 | 8.98 | 10.90 | 10.52 | 8.85 | 8.85 | 8.83 | 10.31\n",
    "de | 5.62 | 5.64 | 5.66 | 5.64 | 6.71 | 6.85 | 5.62 | 5.61 | 5.58 | 6.42\n",
    "ni | 6.96 | 7.23 | 7.02 | 7.23 | 8.49 | 8.06 | 6.94 | 6.94 | 7.02 | 8.16\n",
    "us | 5.43 | 5.46 | 5.46 | 5.50 | 6.70 | 6.52 | 5.45 | 5.45 | 5.46 | 6.27\n",
    "ca | 5.36 | 5.37 | 5.35 | 5.41 | 6.46 | 6.32 | 5.34 | 5.34 | 5.42 | 6.21\n",
    "nz | 5.40 | 5.41 | 5.28 | 5.30 | 7.00 | 6.45 | 5.39 | 5.39 | 5.27 | 6.42\n",
    "sc | 33.50 | 33.30 | 32.55 | 34.33 | 36.62 | 36.35 | 33.66 | 33.67 | 34.21 | 35.26\n",
    "mean | 9.13 | 9.17 | 9.08 | 9.32 | 11.03 | 10.59 | 9.13 | 9.13 | 9.18 | 10.38\n",
    "seen mean | 6.48 | 6.53 | 6.55 | 6.57 | 8.01 | 7.72 | 6.48 | 6.48 | 6.49 | 7.47\n",
    "unseen mean | 11.12 | 11.14 | 10.98 | 11.38 | 13.29 | 12.73 | 11.12 | 11.13 | 11.20 | 12.56\n",
    "worst | 33.50 | 33.30 | 32.55 | 34.33 | 36.62 | 36.35 | 33.66 | 33.67 | 34.21 | 35.26\n",
    "3-worst mean. | 17.89 | 17.85 | 17.61 | 18.40 | 20.90 | 20.08 | 17.93 | 17.93 | 18.15 | 19.72"
   ]
  },
  {
   "cell_type": "markdown",
   "metadata": {},
   "source": []
  },
  {
   "cell_type": "code",
   "execution_count": 8,
   "metadata": {},
   "outputs": [
    {
     "name": "stdout",
     "output_type": "stream",
     "text": [
      "Experiment folders:\n",
      "\n",
      "- Fine-tuned_9: training `logs/en/asr/train/version_11`, evaluation `../../logs/en/asr/evaluate/version_9`\n",
      "- AC_00: training `logs/en/ensemble/train/binary/b7/DAT/version_81`, evaluation `../../logs/en/asr/evaluate/version_39`\n",
      "- AC_01: training `logs/en/ensemble/train/binary/b7/DAT/version_66`, evaluation `../../logs/en/asr/evaluate/version_24`\n",
      "- AC_02: training `logs/en/ensemble/train/binary/b7/DAT/version_82`, evaluation `../../logs/en/asr/evaluate/version_40`\n",
      "- AC_04: training `logs/en/ensemble/train/binary/b7/DAT/version_83`, evaluation `../../logs/en/asr/evaluate/version_41`\n",
      "- AC_06: training `logs/en/ensemble/train/binary/b7/DAT/version_84`, evaluation `../../logs/en/asr/evaluate/version_42`\n"
     ]
    }
   ],
   "source": [
    "# print the experiment folders of each experiment (both train and eval folders)\n",
    "print(\"Experiment folders:\\n\")\n",
    "for exp, folder in folders.items():\n",
    "    eval_folder = os.path.join(exp_dir, folder)\n",
    "    eval_config = OmegaConf.load(os.path.join(eval_folder, \"config.yaml\"))\n",
    "    train_folder = f'../{eval_config.asr.ckpt.replace(\"/checkpoints/last.ckpt\", \"\")}'\n",
    "    print(f\"- {exp}: training `{train_folder[3:]}`, evaluation `{eval_folder[3:]}`\")"
   ]
  }
 ],
 "metadata": {
  "kernelspec": {
   "display_name": "Python 3",
   "language": "python",
   "name": "python3"
  },
  "language_info": {
   "codemirror_mode": {
    "name": "ipython",
    "version": 3
   },
   "file_extension": ".py",
   "mimetype": "text/x-python",
   "name": "python",
   "nbconvert_exporter": "python",
   "pygments_lexer": "ipython3",
   "version": "3.10.12"
  },
  "orig_nbformat": 4,
  "vscode": {
   "interpreter": {
    "hash": "bac90b33b2e8bf5368ff2c0ee0f6c7fcb3410fada8b1fda9f71f846ace4b0b44"
   }
  }
 },
 "nbformat": 4,
 "nbformat_minor": 2
}
