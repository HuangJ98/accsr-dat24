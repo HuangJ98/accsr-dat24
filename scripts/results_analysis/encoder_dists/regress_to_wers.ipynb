{
 "cells": [
  {
   "attachments": {},
   "cell_type": "markdown",
   "metadata": {},
   "source": [
    "### Regress reduced encoder representations to WERs\n",
    "\n",
    "The goal is to assess how reliable encoder representations are for predicting WER"
   ]
  },
  {
   "cell_type": "code",
   "execution_count": 69,
   "metadata": {},
   "outputs": [],
   "source": [
    "import json\n",
    "import os\n",
    "\n",
    "import numpy as np\n",
    "from omegaconf import OmegaConf\n",
    "from sklearn.linear_model import LinearRegression, Ridge, Lasso"
   ]
  },
  {
   "cell_type": "code",
   "execution_count": 26,
   "metadata": {},
   "outputs": [],
   "source": [
    "# CONFIG\n",
    "tsne_exp_dir = \"version_11\"  # experiment folder where tsne data is stored\n",
    "enc_block = 16  # encoder block to use for regression\n",
    "wers_exp_dir = \"version_48\"  # experiment folder where wers data is stored (should evaluate the same model as the tsne data)"
   ]
  },
  {
   "cell_type": "code",
   "execution_count": 25,
   "metadata": {},
   "outputs": [],
   "source": [
    "log_dir = \"../../../logs/de\"\n",
    "vecs_dir = os.path.join(log_dir, \"analysis\", tsne_exp_dir)\n",
    "wers_dir = os.path.join(log_dir, \"asr\", \"evaluate\", wers_exp_dir)"
   ]
  },
  {
   "cell_type": "code",
   "execution_count": 14,
   "metadata": {},
   "outputs": [
    {
     "data": {
      "text/plain": [
       "100"
      ]
     },
     "execution_count": 14,
     "metadata": {},
     "output_type": "execute_result"
    }
   ],
   "source": [
    "# get the number of samples per accent used from the vecs dir config\n",
    "config = OmegaConf.load(os.path.join(vecs_dir, \"config.yaml\"))\n",
    "n_samples = config.components.EncoderViz.n_samples\n",
    "n_samples"
   ]
  },
  {
   "attachments": {},
   "cell_type": "markdown",
   "metadata": {},
   "source": [
    "The EncoderViz class computes the encoder representations for the first `n_samples` samples of each accent."
   ]
  },
  {
   "cell_type": "code",
   "execution_count": 45,
   "metadata": {},
   "outputs": [
    {
     "name": "stdout",
     "output_type": "stream",
     "text": [
      "de_ni 0.88 100\n",
      "ch 4.35 100\n",
      "de_al 0.96 100\n",
      "it 2.21 100\n",
      "fr 3.91 100\n",
      "de 3.8 100\n",
      "ru 2.63 100\n",
      "us 5.09 100\n",
      "gb 4.72 100\n",
      "at 1.38 100\n",
      "ca 3.29 100\n"
     ]
    }
   ],
   "source": [
    "# find the WERs for the first `n_samples` samples of each accent\n",
    "wers_file = os.path.join(wers_dir, \"results.json\")\n",
    "all_wers = json.load(open(wers_file))\n",
    "wers = {acc: [] for acc in all_wers.keys()}\n",
    "for accent, samples in all_wers.items():\n",
    "    for sample_id in samples:\n",
    "        wers[accent].append(samples[sample_id][\"wer\"])\n",
    "        if len(wers[accent]) == n_samples:\n",
    "            break\n",
    "\n",
    "# replace filenames with the accent for each accent and convert WERs to numpy array\n",
    "old_keys = list(all_wers.keys())\n",
    "for accent in old_keys:\n",
    "    pretty_accent = os.path.splitext(accent)[0][5:]\n",
    "    wers[pretty_accent] = np.array(wers.pop(accent))\n",
    "\n",
    "# print the number of samples and mean WER for each accent\n",
    "for acc, vals in wers.items():\n",
    "    print(acc, np.round(np.mean(vals)*100, 2), len(vals))"
   ]
  },
  {
   "cell_type": "code",
   "execution_count": 82,
   "metadata": {},
   "outputs": [],
   "source": [
    "# get the reduced encoder vectors for each accent\n",
    "vec_langs = json.load(open(os.path.join(vecs_dir, \"langs.json\")))\n",
    "block_vecs = np.load(os.path.join(vecs_dir, \"tsne\", f\"b{enc_block}\", \"vecs.npy\"))\n",
    "vec_labels = np.load(os.path.join(vecs_dir, \"tsne\", f\"b{enc_block}\", \"labels.npy\"))"
   ]
  },
  {
   "cell_type": "code",
   "execution_count": 83,
   "metadata": {},
   "outputs": [
    {
     "data": {
      "text/plain": [
       "(1100,)"
      ]
     },
     "execution_count": 83,
     "metadata": {},
     "output_type": "execute_result"
    }
   ],
   "source": [
    "# order the WERs in the same order as the vecs\n",
    "ordered_wers = np.array([])\n",
    "for i in range(0, len(vec_labels), n_samples):\n",
    "    accent = vec_langs[int(vec_labels[i])]\n",
    "    ordered_wers = np.concatenate([ordered_wers, wers[accent]])\n",
    "ordered_wers.shape"
   ]
  },
  {
   "cell_type": "code",
   "execution_count": 84,
   "metadata": {},
   "outputs": [
    {
     "data": {
      "text/plain": [
       "0.07475050788077864"
      ]
     },
     "execution_count": 84,
     "metadata": {},
     "output_type": "execute_result"
    }
   ],
   "source": [
    "# fit a linear regression model to the WERs and encoder vectors\n",
    "linear_model = LinearRegression().fit(block_vecs, ordered_wers)\n",
    "linear_model.score(block_vecs, ordered_wers)"
   ]
  },
  {
   "cell_type": "code",
   "execution_count": 85,
   "metadata": {},
   "outputs": [
    {
     "data": {
      "text/plain": [
       "0.03675192636572633"
      ]
     },
     "execution_count": 85,
     "metadata": {},
     "output_type": "execute_result"
    }
   ],
   "source": [
    "ridge_model = Ridge().fit(block_vecs, ordered_wers)\n",
    "ridge_model.score(block_vecs, ordered_wers)"
   ]
  },
  {
   "cell_type": "code",
   "execution_count": 86,
   "metadata": {},
   "outputs": [
    {
     "data": {
      "text/plain": [
       "-8.881784197001252e-16"
      ]
     },
     "execution_count": 86,
     "metadata": {},
     "output_type": "execute_result"
    }
   ],
   "source": [
    "lasso_model = Lasso().fit(block_vecs, ordered_wers)\n",
    "lasso_model.score(block_vecs, ordered_wers)"
   ]
  },
  {
   "cell_type": "code",
   "execution_count": 104,
   "metadata": {},
   "outputs": [
    {
     "name": "stdout",
     "output_type": "stream",
     "text": [
      "de 0.033\n",
      "at -0.06\n",
      "ch 0.12\n",
      "ca 0.058\n",
      "it 0.165\n",
      "ru 0.096\n",
      "us 0.107\n",
      "gb 0.054\n",
      "fr 0.088\n",
      "de_al -0.561\n",
      "de_ni -0.605\n"
     ]
    }
   ],
   "source": [
    "# score each accent separately with the linear regression model (best)\n",
    "for idx, lang in enumerate(vec_langs):\n",
    "    idx_acc = np.argwhere(vec_labels == idx).flatten()\n",
    "    score = linear_model.score(block_vecs[idx_acc], wers[lang])\n",
    "    print(lang, np.round(score, 3))"
   ]
  },
  {
   "cell_type": "code",
   "execution_count": null,
   "metadata": {},
   "outputs": [],
   "source": []
  }
 ],
 "metadata": {
  "kernelspec": {
   "display_name": "Python 3",
   "language": "python",
   "name": "python3"
  },
  "language_info": {
   "codemirror_mode": {
    "name": "ipython",
    "version": 3
   },
   "file_extension": ".py",
   "mimetype": "text/x-python",
   "name": "python",
   "nbconvert_exporter": "python",
   "pygments_lexer": "ipython3",
   "version": "3.9.16"
  },
  "orig_nbformat": 4
 },
 "nbformat": 4,
 "nbformat_minor": 2
}
