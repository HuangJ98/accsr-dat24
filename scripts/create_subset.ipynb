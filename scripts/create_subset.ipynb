{
 "cells": [
  {
   "cell_type": "code",
   "execution_count": 171,
   "metadata": {},
   "outputs": [],
   "source": [
    "import json\n",
    "import os\n",
    "from pprint import pprint\n",
    "import numpy as np"
   ]
  },
  {
   "cell_type": "code",
   "execution_count": 172,
   "metadata": {},
   "outputs": [],
   "source": [
    "train_folder = \"../../data/en/train_split\"\n",
    "save_folder = \"../../data/en/train_subset\""
   ]
  },
  {
   "cell_type": "code",
   "execution_count": 200,
   "metadata": {},
   "outputs": [],
   "source": [
    "if not os.path.isdir(save_folder):\n",
    "    os.mkdir(save_folder)\n",
    "\n",
    "rng = np.random.default_rng()\n",
    "divider = 10    #1/10 of the whole data set is used for testing/training\n",
    "\n",
    "\n",
    "for file in os.listdir(train_folder):\n",
    "    data_path = os.path.join(train_folder, file)\n",
    "\n",
    "    reader = open(data_path)\n",
    "    lines  = reader.readlines()\n",
    "    #create random array for a random test data\n",
    "    n_sample = len(lines)\n",
    "    rdm_arr = np.sort(rng.choice(n_sample, int(n_sample/divider), replace=False))\n",
    "    counter = 0\n",
    "    writer = open(os.path.join(save_folder,file), \"w\")\n",
    "    \n",
    "    for line in lines:\n",
    "        \n",
    "        if counter in rdm_arr:\n",
    "            writer.write(line)\n",
    "        counter += 1\n",
    "\n",
    "    writer.close()\n",
    "    reader.close()\n",
    "    "
   ]
  },
  {
   "cell_type": "code",
   "execution_count": 204,
   "metadata": {},
   "outputs": [],
   "source": [
    "train_results = dict()\n",
    "for file in os.listdir(save_folder):\n",
    "    prepend, acc = os.path.splitext(file)[0].split(\"_\")\n",
    "    if acc not in train_results:\n",
    "        train_results[acc] = dict()\n",
    "    dur, n_samples = 0, 0\n",
    "    fname = os.path.join(save_folder, file)\n",
    "    \n",
    "    try:\n",
    "        for line in open(fname):\n",
    "            n_samples += 1\n",
    "            dur += json.loads(line)[\"duration\"]\n",
    "        train_results\n",
    "        train_results[acc][prepend] = {\n",
    "            \"n_samples\": n_samples,\n",
    "            \"dur\": round(dur / 3600, 2)\n",
    "        }\n",
    "    except Exception:  # file does not exist\n",
    "        print(f\"{fname} does not exist\")\n",
    "        continue\n",
    "\n"
   ]
  },
  {
   "cell_type": "code",
   "execution_count": 205,
   "metadata": {},
   "outputs": [
    {
     "name": "stdout",
     "output_type": "stream",
     "text": [
      "{'None': {'test': {'dur': 0.0, 'n_samples': 0}},\n",
      " 'au': {'test': {'dur': 1.43, 'n_samples': 1022},\n",
      "        'train': {'dur': 5.7, 'n_samples': 4088}},\n",
      " 'ca': {'test': {'dur': 1.71, 'n_samples': 1186},\n",
      "        'train': {'dur': 6.85, 'n_samples': 4747}},\n",
      " 'de': {'test': {'dur': 1.57, 'n_samples': 817},\n",
      "        'train': {'dur': 6.33, 'n_samples': 3271}},\n",
      " 'hk': {'test': {'dur': 0.58, 'n_samples': 426}},\n",
      " 'ie': {'test': {'dur': 1.4, 'n_samples': 946}},\n",
      " 'in': {'test': {'dur': 2.96, 'n_samples': 1992},\n",
      "        'train': {'dur': 11.84, 'n_samples': 7969}},\n",
      " 'ni': {'test': {'dur': 0.79, 'n_samples': 596}},\n",
      " 'nz': {'test': {'dur': 1.58, 'n_samples': 1187}},\n",
      " 'ph': {'test': {'dur': 0.74, 'n_samples': 510}},\n",
      " 'sc': {'test': {'dur': 2.43, 'n_samples': 1547}},\n",
      " 'sg': {'test': {'dur': 0.48, 'n_samples': 336}},\n",
      " 'uk': {'test': {'dur': 3.53, 'n_samples': 2682},\n",
      "        'train': {'dur': 14.26, 'n_samples': 10730}},\n",
      " 'us': {'test': {'dur': 10.37, 'n_samples': 7652},\n",
      "        'train': {'dur': 41.7, 'n_samples': 30610}},\n",
      " 'za': {'test': {'dur': 1.15, 'n_samples': 837}}}\n"
     ]
    }
   ],
   "source": [
    "pprint(train_results)"
   ]
  }
 ],
 "metadata": {
  "kernelspec": {
   "display_name": "Python 3",
   "language": "python",
   "name": "python3"
  },
  "language_info": {
   "codemirror_mode": {
    "name": "ipython",
    "version": 3
   },
   "file_extension": ".py",
   "mimetype": "text/x-python",
   "name": "python",
   "nbconvert_exporter": "python",
   "pygments_lexer": "ipython3",
   "version": "3.10.12"
  }
 },
 "nbformat": 4,
 "nbformat_minor": 2
}
